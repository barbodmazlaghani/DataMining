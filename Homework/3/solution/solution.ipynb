{
  "nbformat": 4,
  "nbformat_minor": 0,
  "metadata": {
    "colab": {
      "provenance": []
    },
    "kernelspec": {
      "name": "python3",
      "display_name": "Python 3"
    },
    "language_info": {
      "name": "python"
    }
  },
  "cells": [
    {
      "cell_type": "code",
      "source": [
        "!pip install pyspark"
      ],
      "metadata": {
        "colab": {
          "base_uri": "https://localhost:8080/"
        },
        "id": "wickKFSussVG",
        "outputId": "9868c99f-8389-44af-94da-7331acbd1faa"
      },
      "execution_count": 3,
      "outputs": [
        {
          "output_type": "stream",
          "name": "stdout",
          "text": [
            "Collecting pyspark\n",
            "  Downloading pyspark-3.5.1.tar.gz (317.0 MB)\n",
            "\u001b[2K     \u001b[90m━━━━━━━━━━━━━━━━━━━━━━━━━━━━━━━━━━━━━━━━\u001b[0m \u001b[32m317.0/317.0 MB\u001b[0m \u001b[31m3.1 MB/s\u001b[0m eta \u001b[36m0:00:00\u001b[0m\n",
            "\u001b[?25h  Preparing metadata (setup.py) ... \u001b[?25l\u001b[?25hdone\n",
            "Requirement already satisfied: py4j==0.10.9.7 in /usr/local/lib/python3.10/dist-packages (from pyspark) (0.10.9.7)\n",
            "Building wheels for collected packages: pyspark\n",
            "  Building wheel for pyspark (setup.py) ... \u001b[?25l\u001b[?25hdone\n",
            "  Created wheel for pyspark: filename=pyspark-3.5.1-py2.py3-none-any.whl size=317488491 sha256=e55095d936983948e4ae87163be760df7c228ef743ea1a43fe43abde96e3d36e\n",
            "  Stored in directory: /root/.cache/pip/wheels/80/1d/60/2c256ed38dddce2fdd93be545214a63e02fbd8d74fb0b7f3a6\n",
            "Successfully built pyspark\n",
            "Installing collected packages: pyspark\n",
            "Successfully installed pyspark-3.5.1\n"
          ]
        }
      ]
    },
    {
      "cell_type": "code",
      "execution_count": 17,
      "metadata": {
        "id": "J9z5Mz-8qb3i"
      },
      "outputs": [],
      "source": [
        "from pyspark.sql import SparkSession\n",
        "\n",
        "spark = SparkSession.builder.appName(\"Groceries Analysis\").getOrCreate()\n",
        "df = spark.read.csv('Groceries.csv', header=True, inferSchema=True)\n"
      ]
    },
    {
      "cell_type": "code",
      "source": [
        "df.show(5)\n"
      ],
      "metadata": {
        "colab": {
          "base_uri": "https://localhost:8080/"
        },
        "id": "LMNyhu7YtqXJ",
        "outputId": "6ed7bb91-ddbc-4e86-92d6-67cbe6a73edd"
      },
      "execution_count": 18,
      "outputs": [
        {
          "output_type": "stream",
          "name": "stdout",
          "text": [
            "+-------------+----------+----------------+\n",
            "|Member_number|      Date| itemDescription|\n",
            "+-------------+----------+----------------+\n",
            "|         1808|21-07-2015|  tropical fruit|\n",
            "|         2552|05-01-2015|      whole milk|\n",
            "|         2300|19-09-2015|       pip fruit|\n",
            "|         1187|12-12-2015|other vegetables|\n",
            "|         3037|01-02-2015|      whole milk|\n",
            "+-------------+----------+----------------+\n",
            "only showing top 5 rows\n",
            "\n"
          ]
        }
      ]
    },
    {
      "cell_type": "code",
      "source": [
        "print(df.count())"
      ],
      "metadata": {
        "colab": {
          "base_uri": "https://localhost:8080/"
        },
        "id": "d9o2WdCjtuT0",
        "outputId": "a14ae2ee-cdf5-4488-f64d-506777d73d9d"
      },
      "execution_count": 19,
      "outputs": [
        {
          "output_type": "stream",
          "name": "stdout",
          "text": [
            "38765\n"
          ]
        }
      ]
    },
    {
      "cell_type": "code",
      "source": [
        "df = df.drop('Date')"
      ],
      "metadata": {
        "id": "kpqBVOa5uBDr"
      },
      "execution_count": 20,
      "outputs": []
    },
    {
      "cell_type": "code",
      "source": [
        "from pyspark.sql import functions as F\n",
        "\n",
        "df_grouped = df.groupBy(\"Member_number\").agg(F.collect_set(\"itemDescription\").alias(\"products\"))\n",
        "df_grouped.show(truncate=False)\n",
        "\n"
      ],
      "metadata": {
        "colab": {
          "base_uri": "https://localhost:8080/"
        },
        "id": "_SaSTaxUuZeD",
        "outputId": "5f85e11f-080e-4859-ae77-2a188096f6fe"
      },
      "execution_count": 21,
      "outputs": [
        {
          "output_type": "stream",
          "name": "stdout",
          "text": [
            "+-------------+----------------------------------------------------------------------------------------------------------------------------------------------------------------------------------------------------------------------------------------------+\n",
            "|Member_number|products                                                                                                                                                                                                                                      |\n",
            "+-------------+----------------------------------------------------------------------------------------------------------------------------------------------------------------------------------------------------------------------------------------------+\n",
            "|1000         |[pickled vegetables, whole milk, misc. beverages, pastry, salty snack, sausage, canned beer, semi-finished bread, hygiene articles, yogurt, soda]                                                                                             |\n",
            "|1001         |[whole milk, beef, sausage, frankfurter, curd, rolls/buns, soda, white bread, whipped/sour cream]                                                                                                                                             |\n",
            "|1002         |[whole milk, sugar, butter, butter milk, specialty chocolate, frozen vegetables, tropical fruit, other vegetables]                                                                                                                            |\n",
            "|1003         |[frozen meals, sausage, detergent, rolls/buns, root vegetables, dental care]                                                                                                                                                                  |\n",
            "|1004         |[pastry, whole milk, pip fruit, canned beer, shopping bags, packaged fruit/vegetables, cling film/bags, frozen fish, hygiene articles, red/blush wine, dish cleaner, rolls/buns, root vegetables, chocolate, tropical fruit, other vegetables]|\n",
            "|1005         |[rolls/buns, margarine, whipped/sour cream]                                                                                                                                                                                                   |\n",
            "|1006         |[flour, whole milk, softener, frankfurter, chicken, rice, skin care, bottled water, shopping bags, bottled beer, rolls/buns, chocolate]                                                                                                       |\n",
            "|1008         |[liquor (appetizer), photo/film, liver loaf, yogurt, dessert, domestic eggs, white wine, soda, root vegetables, tropical fruit, hamburger meat]                                                                                               |\n",
            "|1009         |[pastry, canned fish, ketchup, cocoa drinks, yogurt, newspapers, herbs, tropical fruit]                                                                                                                                                       |\n",
            "|1010         |[pip fruit, frankfurter, specialty bar, bottled water, candles, kitchen towels, rolls/buns, UHT-milk, sliced cheese, coffee]                                                                                                                  |\n",
            "|1011         |[pastry, whole milk, citrus fruit, curd cheese, yogurt, frankfurter, candles, bottled water, rolls/buns, candy, herbs, grapes, other vegetables]                                                                                              |\n",
            "|1012         |[whole milk, yogurt, processed cheese, frankfurter, shopping bags, rolls/buns, root vegetables, frozen vegetables, tropical fruit, brown bread, onions]                                                                                       |\n",
            "|1013         |[mustard, whole milk, mayonnaise, hard cheese, frozen meals, domestic eggs, frozen vegetables, napkins, meat, bottled water, root vegetables, white bread, candy, tropical fruit, other vegetables, roll products , whipped/sour cream]       |\n",
            "|1014         |[whole milk, sausage, canned beer, yogurt, bottled beer, butter milk, rolls/buns, hamburger meat, cookware]                                                                                                                                   |\n",
            "|1015         |[whole milk, beef, citrus fruit, salty snack, fruit/vegetable juice, rolls/buns, chocolate]                                                                                                                                                   |\n",
            "|1016         |[mayonnaise, pip fruit, red/blush wine, chicken, frankfurter, oil, bottled beer, rolls/buns, UHT-milk, soft cheese]                                                                                                                           |\n",
            "|1017         |[beef, yogurt, dessert, shopping bags, rolls/buns, soda, root vegetables, pet care, brown bread, other vegetables]                                                                                                                            |\n",
            "|1018         |[long life bakery product, cake bar, domestic eggs, butter milk, curd, berries, root vegetables, beverages]                                                                                                                                   |\n",
            "|1019         |[red/blush wine, hamburger meat]                                                                                                                                                                                                              |\n",
            "|1020         |[spices, frozen meals, canned beer, butter, frozen fish, newspapers, yogurt, shopping bags, rolls/buns]                                                                                                                                       |\n",
            "+-------------+----------------------------------------------------------------------------------------------------------------------------------------------------------------------------------------------------------------------------------------------+\n",
            "only showing top 20 rows\n",
            "\n"
          ]
        }
      ]
    },
    {
      "cell_type": "code",
      "source": [
        "df_grouped_with_counts = df_grouped.withColumn(\"product_count\", F.size(\"products\"))\n",
        "df_grouped_with_counts.filter(\"product_count > 10\").select(\"Member_number\").show()"
      ],
      "metadata": {
        "colab": {
          "base_uri": "https://localhost:8080/"
        },
        "id": "jzXTE_-buseJ",
        "outputId": "5a18f3fe-7c37-4174-b603-4cb3ba20c65f"
      },
      "execution_count": 22,
      "outputs": [
        {
          "output_type": "stream",
          "name": "stdout",
          "text": [
            "+-------------+\n",
            "|Member_number|\n",
            "+-------------+\n",
            "|         1000|\n",
            "|         1004|\n",
            "|         1006|\n",
            "|         1008|\n",
            "|         1011|\n",
            "|         1012|\n",
            "|         1013|\n",
            "|         1023|\n",
            "|         1026|\n",
            "|         1028|\n",
            "|         1032|\n",
            "|         1033|\n",
            "|         1038|\n",
            "|         1050|\n",
            "|         1051|\n",
            "|         1052|\n",
            "|         1061|\n",
            "|         1062|\n",
            "|         1065|\n",
            "|         1077|\n",
            "+-------------+\n",
            "only showing top 20 rows\n",
            "\n"
          ]
        }
      ]
    },
    {
      "cell_type": "code",
      "source": [
        "from pyspark.ml.fpm import FPGrowth\n",
        "\n",
        "fpGrowth = FPGrowth(itemsCol=\"products\", minSupport=0.15, minConfidence=0.15)\n",
        "model = fpGrowth.fit(df_grouped)\n",
        "frequent_itemsets = model.freqItemsets\n",
        "frequent_itemsets.show()\n",
        "\n"
      ],
      "metadata": {
        "colab": {
          "base_uri": "https://localhost:8080/"
        },
        "id": "Oo7pY1RLvNYr",
        "outputId": "a27e1a04-4b6c-41ec-a154-55d65c84a7ff"
      },
      "execution_count": 23,
      "outputs": [
        {
          "output_type": "stream",
          "name": "stdout",
          "text": [
            "+--------------------+----+\n",
            "|               items|freq|\n",
            "+--------------------+----+\n",
            "|           [sausage]| 803|\n",
            "|         [pip fruit]| 665|\n",
            "|        [rolls/buns]|1363|\n",
            "|[rolls/buns, whol...| 696|\n",
            "|    [tropical fruit]| 911|\n",
            "|      [bottled beer]| 619|\n",
            "|            [yogurt]|1103|\n",
            "|[yogurt, whole milk]| 587|\n",
            "|       [canned beer]| 644|\n",
            "|     [bottled water]| 833|\n",
            "|  [other vegetables]|1468|\n",
            "|[other vegetables...| 746|\n",
            "|            [pastry]| 692|\n",
            "|      [citrus fruit]| 723|\n",
            "|     [shopping bags]| 656|\n",
            "|              [soda]|1222|\n",
            "|  [soda, whole milk]| 589|\n",
            "|   [root vegetables]| 899|\n",
            "|[whipped/sour cream]| 603|\n",
            "|        [whole milk]|1786|\n",
            "+--------------------+----+\n",
            "\n"
          ]
        }
      ]
    },
    {
      "cell_type": "code",
      "source": [
        "rules = model.associationRules\n",
        "rules.filter(rules.confidence >= 0.4).show()"
      ],
      "metadata": {
        "colab": {
          "base_uri": "https://localhost:8080/"
        },
        "id": "QEn9JF1fvRPB",
        "outputId": "7b550aed-f5c2-49df-b5c9-bb375846d70d"
      },
      "execution_count": 24,
      "outputs": [
        {
          "output_type": "stream",
          "name": "stdout",
          "text": [
            "+------------------+------------------+-------------------+------------------+-------------------+\n",
            "|        antecedent|        consequent|         confidence|              lift|            support|\n",
            "+------------------+------------------+-------------------+------------------+-------------------+\n",
            "|[other vegetables]|      [whole milk]| 0.5081743869209809|1.1091062487222754| 0.1913801949717804|\n",
            "|          [yogurt]|      [whole milk]| 0.5321849501359928|1.1615100423460805|0.15059004617752694|\n",
            "|      [rolls/buns]|      [whole milk]| 0.5106382978723404|1.1144838102499344|0.17855310415597742|\n",
            "|      [whole milk]|[other vegetables]| 0.4176931690929451|1.1091062487222754| 0.1913801949717804|\n",
            "|            [soda]|      [whole milk]|0.48199672667757776|1.0519726990980953|0.15110312981015905|\n",
            "+------------------+------------------+-------------------+------------------+-------------------+\n",
            "\n"
          ]
        }
      ]
    }
  ]
}